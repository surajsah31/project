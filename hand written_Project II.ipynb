{
 "cells": [
  {
   "cell_type": "markdown",
   "id": "db194ac8",
   "metadata": {},
   "source": [
    "Mid Program Project II"
   ]
  },
  {
   "cell_type": "markdown",
   "id": "77ab5977",
   "metadata": {},
   "source": [
    "1.Read the parser.txt file containing the image id and the respective word for that image and take the first 10000 instances \n",
    "for training and testing of the model                                                                               Marks: 10"
   ]
  },
  {
   "cell_type": "code",
   "execution_count": 1,
   "id": "3f7434c0",
   "metadata": {},
   "outputs": [],
   "source": [
    "import pandas as pd\n",
    "import numpy as np\n",
    "import tensorflow as tf\n",
    "from tensorflow import keras\n",
    "import matplotlib.image as mpimg\n",
    "import matplotlib.pyplot as plt\n",
    "import string\n",
    "\n",
    "import cv2\n",
    "import os\n",
    "\n",
    "import tensorflow\n",
    "from tensorflow.keras.preprocessing.image import ImageDataGenerator\n",
    "from tensorflow.keras.models import Sequential\n",
    "from tensorflow.keras.layers import Dense,Dropout,Conv2D,Flatten,MaxPool2D,Activation,MaxPooling2D\n",
    "from tensorflow.keras.preprocessing import image\n",
    "from tensorflow.keras.preprocessing.sequence import pad_sequences\n"
   ]
  },
  {
   "cell_type": "code",
   "execution_count": null,
   "id": "d2174a93",
   "metadata": {},
   "outputs": [],
   "source": [
    "from google.colab import drive\n",
    "drive.mount('/content/drive')"
   ]
  },
  {
   "cell_type": "code",
   "execution_count": 2,
   "id": "008ca6b0",
   "metadata": {},
   "outputs": [
    {
     "data": {
      "text/html": [
       "<div>\n",
       "<style scoped>\n",
       "    .dataframe tbody tr th:only-of-type {\n",
       "        vertical-align: middle;\n",
       "    }\n",
       "\n",
       "    .dataframe tbody tr th {\n",
       "        vertical-align: top;\n",
       "    }\n",
       "\n",
       "    .dataframe thead th {\n",
       "        text-align: right;\n",
       "    }\n",
       "</style>\n",
       "<table border=\"1\" class=\"dataframe\">\n",
       "  <thead>\n",
       "    <tr style=\"text-align: right;\">\n",
       "      <th></th>\n",
       "      <th>a01-000u-00-00</th>\n",
       "      <th>ok</th>\n",
       "      <th>154</th>\n",
       "      <th>408</th>\n",
       "      <th>768</th>\n",
       "      <th>27</th>\n",
       "      <th>51</th>\n",
       "      <th>AT</th>\n",
       "      <th>A</th>\n",
       "    </tr>\n",
       "  </thead>\n",
       "  <tbody>\n",
       "    <tr>\n",
       "      <th>0</th>\n",
       "      <td>a01-000u-00-01</td>\n",
       "      <td>ok</td>\n",
       "      <td>154</td>\n",
       "      <td>507</td>\n",
       "      <td>766</td>\n",
       "      <td>213</td>\n",
       "      <td>48</td>\n",
       "      <td>NN</td>\n",
       "      <td>MOVE</td>\n",
       "    </tr>\n",
       "    <tr>\n",
       "      <th>1</th>\n",
       "      <td>a01-000u-00-02</td>\n",
       "      <td>ok</td>\n",
       "      <td>154</td>\n",
       "      <td>796</td>\n",
       "      <td>764</td>\n",
       "      <td>70</td>\n",
       "      <td>50</td>\n",
       "      <td>TO</td>\n",
       "      <td>to</td>\n",
       "    </tr>\n",
       "    <tr>\n",
       "      <th>2</th>\n",
       "      <td>a01-000u-00-03</td>\n",
       "      <td>ok</td>\n",
       "      <td>154</td>\n",
       "      <td>919</td>\n",
       "      <td>757</td>\n",
       "      <td>166</td>\n",
       "      <td>78</td>\n",
       "      <td>VB</td>\n",
       "      <td>stop</td>\n",
       "    </tr>\n",
       "    <tr>\n",
       "      <th>3</th>\n",
       "      <td>a01-000u-00-04</td>\n",
       "      <td>ok</td>\n",
       "      <td>154</td>\n",
       "      <td>1185</td>\n",
       "      <td>754</td>\n",
       "      <td>126</td>\n",
       "      <td>61</td>\n",
       "      <td>NPT</td>\n",
       "      <td>Mr.</td>\n",
       "    </tr>\n",
       "    <tr>\n",
       "      <th>4</th>\n",
       "      <td>a01-000u-00-05</td>\n",
       "      <td>ok</td>\n",
       "      <td>154</td>\n",
       "      <td>1438</td>\n",
       "      <td>746</td>\n",
       "      <td>382</td>\n",
       "      <td>73</td>\n",
       "      <td>NP</td>\n",
       "      <td>Gaitskell</td>\n",
       "    </tr>\n",
       "  </tbody>\n",
       "</table>\n",
       "</div>"
      ],
      "text/plain": [
       "   a01-000u-00-00  ok  154   408  768   27  51   AT          A\n",
       "0  a01-000u-00-01  ok  154   507  766  213  48   NN       MOVE\n",
       "1  a01-000u-00-02  ok  154   796  764   70  50   TO         to\n",
       "2  a01-000u-00-03  ok  154   919  757  166  78   VB       stop\n",
       "3  a01-000u-00-04  ok  154  1185  754  126  61  NPT        Mr.\n",
       "4  a01-000u-00-05  ok  154  1438  746  382  73   NP  Gaitskell"
      ]
     },
     "execution_count": 2,
     "metadata": {},
     "output_type": "execute_result"
    }
   ],
   "source": [
    "df = pd.read_csv(\"parser.txt\", sep=\" \", encoding=\"latin1\", on_bad_lines='skip')\n",
    "df.head()"
   ]
  },
  {
   "cell_type": "code",
   "execution_count": 3,
   "id": "56cc292c",
   "metadata": {},
   "outputs": [
    {
     "data": {
      "text/html": [
       "<div>\n",
       "<style scoped>\n",
       "    .dataframe tbody tr th:only-of-type {\n",
       "        vertical-align: middle;\n",
       "    }\n",
       "\n",
       "    .dataframe tbody tr th {\n",
       "        vertical-align: top;\n",
       "    }\n",
       "\n",
       "    .dataframe thead th {\n",
       "        text-align: right;\n",
       "    }\n",
       "</style>\n",
       "<table border=\"1\" class=\"dataframe\">\n",
       "  <thead>\n",
       "    <tr style=\"text-align: right;\">\n",
       "      <th></th>\n",
       "      <th>a01-000u-00-00</th>\n",
       "      <th>ok</th>\n",
       "      <th>154</th>\n",
       "      <th>408</th>\n",
       "      <th>768</th>\n",
       "      <th>27</th>\n",
       "      <th>51</th>\n",
       "      <th>AT</th>\n",
       "      <th>A</th>\n",
       "    </tr>\n",
       "  </thead>\n",
       "  <tbody>\n",
       "    <tr>\n",
       "      <th>0</th>\n",
       "      <td>a01-000u-00-01</td>\n",
       "      <td>ok</td>\n",
       "      <td>154</td>\n",
       "      <td>507</td>\n",
       "      <td>766</td>\n",
       "      <td>213</td>\n",
       "      <td>48</td>\n",
       "      <td>NN</td>\n",
       "      <td>MOVE</td>\n",
       "    </tr>\n",
       "    <tr>\n",
       "      <th>1</th>\n",
       "      <td>a01-000u-00-02</td>\n",
       "      <td>ok</td>\n",
       "      <td>154</td>\n",
       "      <td>796</td>\n",
       "      <td>764</td>\n",
       "      <td>70</td>\n",
       "      <td>50</td>\n",
       "      <td>TO</td>\n",
       "      <td>to</td>\n",
       "    </tr>\n",
       "    <tr>\n",
       "      <th>2</th>\n",
       "      <td>a01-000u-00-03</td>\n",
       "      <td>ok</td>\n",
       "      <td>154</td>\n",
       "      <td>919</td>\n",
       "      <td>757</td>\n",
       "      <td>166</td>\n",
       "      <td>78</td>\n",
       "      <td>VB</td>\n",
       "      <td>stop</td>\n",
       "    </tr>\n",
       "    <tr>\n",
       "      <th>3</th>\n",
       "      <td>a01-000u-00-04</td>\n",
       "      <td>ok</td>\n",
       "      <td>154</td>\n",
       "      <td>1185</td>\n",
       "      <td>754</td>\n",
       "      <td>126</td>\n",
       "      <td>61</td>\n",
       "      <td>NPT</td>\n",
       "      <td>Mr.</td>\n",
       "    </tr>\n",
       "    <tr>\n",
       "      <th>4</th>\n",
       "      <td>a01-000u-00-05</td>\n",
       "      <td>ok</td>\n",
       "      <td>154</td>\n",
       "      <td>1438</td>\n",
       "      <td>746</td>\n",
       "      <td>382</td>\n",
       "      <td>73</td>\n",
       "      <td>NP</td>\n",
       "      <td>Gaitskell</td>\n",
       "    </tr>\n",
       "    <tr>\n",
       "      <th>...</th>\n",
       "      <td>...</td>\n",
       "      <td>...</td>\n",
       "      <td>...</td>\n",
       "      <td>...</td>\n",
       "      <td>...</td>\n",
       "      <td>...</td>\n",
       "      <td>...</td>\n",
       "      <td>...</td>\n",
       "      <td>...</td>\n",
       "    </tr>\n",
       "    <tr>\n",
       "      <th>9995</th>\n",
       "      <td>b01-049-02-00</td>\n",
       "      <td>ok</td>\n",
       "      <td>198</td>\n",
       "      <td>327</td>\n",
       "      <td>1112</td>\n",
       "      <td>109</td>\n",
       "      <td>65</td>\n",
       "      <td>ATI</td>\n",
       "      <td>the</td>\n",
       "    </tr>\n",
       "    <tr>\n",
       "      <th>9996</th>\n",
       "      <td>b01-049-02-01</td>\n",
       "      <td>ok</td>\n",
       "      <td>198</td>\n",
       "      <td>465</td>\n",
       "      <td>1115</td>\n",
       "      <td>222</td>\n",
       "      <td>87</td>\n",
       "      <td>NN</td>\n",
       "      <td>strength</td>\n",
       "    </tr>\n",
       "    <tr>\n",
       "      <th>9997</th>\n",
       "      <td>b01-049-02-02</td>\n",
       "      <td>ok</td>\n",
       "      <td>198</td>\n",
       "      <td>731</td>\n",
       "      <td>1113</td>\n",
       "      <td>72</td>\n",
       "      <td>69</td>\n",
       "      <td>INO</td>\n",
       "      <td>of</td>\n",
       "    </tr>\n",
       "    <tr>\n",
       "      <th>9998</th>\n",
       "      <td>b01-049-02-03</td>\n",
       "      <td>ok</td>\n",
       "      <td>198</td>\n",
       "      <td>841</td>\n",
       "      <td>1120</td>\n",
       "      <td>286</td>\n",
       "      <td>79</td>\n",
       "      <td>NP$</td>\n",
       "      <td>Germany's</td>\n",
       "    </tr>\n",
       "    <tr>\n",
       "      <th>9999</th>\n",
       "      <td>b01-049-02-04</td>\n",
       "      <td>ok</td>\n",
       "      <td>198</td>\n",
       "      <td>1176</td>\n",
       "      <td>1120</td>\n",
       "      <td>190</td>\n",
       "      <td>96</td>\n",
       "      <td>NN</td>\n",
       "      <td>trading</td>\n",
       "    </tr>\n",
       "  </tbody>\n",
       "</table>\n",
       "<p>10000 rows × 9 columns</p>\n",
       "</div>"
      ],
      "text/plain": [
       "      a01-000u-00-00  ok  154   408   768   27  51   AT          A\n",
       "0     a01-000u-00-01  ok  154   507   766  213  48   NN       MOVE\n",
       "1     a01-000u-00-02  ok  154   796   764   70  50   TO         to\n",
       "2     a01-000u-00-03  ok  154   919   757  166  78   VB       stop\n",
       "3     a01-000u-00-04  ok  154  1185   754  126  61  NPT        Mr.\n",
       "4     a01-000u-00-05  ok  154  1438   746  382  73   NP  Gaitskell\n",
       "...              ...  ..  ...   ...   ...  ...  ..  ...        ...\n",
       "9995   b01-049-02-00  ok  198   327  1112  109  65  ATI        the\n",
       "9996   b01-049-02-01  ok  198   465  1115  222  87   NN   strength\n",
       "9997   b01-049-02-02  ok  198   731  1113   72  69  INO         of\n",
       "9998   b01-049-02-03  ok  198   841  1120  286  79  NP$  Germany's\n",
       "9999   b01-049-02-04  ok  198  1176  1120  190  96   NN    trading\n",
       "\n",
       "[10000 rows x 9 columns]"
      ]
     },
     "execution_count": 3,
     "metadata": {},
     "output_type": "execute_result"
    }
   ],
   "source": [
    "df.head(10000)"
   ]
  },
  {
   "cell_type": "code",
   "execution_count": 9,
   "id": "31fc2a93",
   "metadata": {},
   "outputs": [
    {
     "name": "stdout",
     "output_type": "stream",
     "text": [
      "abcdefghijklmnopqrstuvwxyzABCDEFGHIJKLMNOPQRSTUVWXYZ0123456789!\"#$%&'()*+,-./:;<=>?@[\\]^_`{|}~ 94\n"
     ]
    }
   ],
   "source": [
    "characters=string.ascii_letters + string.digits + string.punctuation\n",
    "def \n",
    "(txt):\n",
    "    output=[]\n",
    "    for index,character in enumerate(txt):\n",
    "        output.append(characters.index(character))\n",
    "    return output\n",
    "print(characters,len(characters))"
   ]
  },
  {
   "cell_type": "code",
   "execution_count": null,
   "id": "b4021dfe",
   "metadata": {},
   "outputs": [],
   "source": [
    "2. Images can be of different shape thus resize all your images to have the same shape (for \n",
    "example = (128,32))"
   ]
  },
  {
   "cell_type": "code",
   "execution_count": 10,
   "id": "eafb8aa0",
   "metadata": {},
   "outputs": [
    {
     "name": "stdout",
     "output_type": "stream",
     "text": [
      "<class 'pandas.core.frame.DataFrame'>\n",
      "RangeIndex: 75571 entries, 0 to 75570\n",
      "Data columns (total 9 columns):\n",
      " #   Column          Non-Null Count  Dtype \n",
      "---  ------          --------------  ----- \n",
      " 0   a01-000u-00-00  75571 non-null  object\n",
      " 1   ok              75571 non-null  object\n",
      " 2   154             75571 non-null  int64 \n",
      " 3   408             75571 non-null  int64 \n",
      " 4   768             75571 non-null  int64 \n",
      " 5   27              75571 non-null  int64 \n",
      " 6   51              75571 non-null  int64 \n",
      " 7   AT              75571 non-null  object\n",
      " 8   A               75571 non-null  object\n",
      "dtypes: int64(5), object(4)\n",
      "memory usage: 5.2+ MB\n"
     ]
    }
   ],
   "source": [
    "df.info()"
   ]
  },
  {
   "cell_type": "code",
   "execution_count": 11,
   "id": "1d534a8f",
   "metadata": {},
   "outputs": [
    {
     "data": {
      "text/plain": [
       "(75571, 9)"
      ]
     },
     "execution_count": 11,
     "metadata": {},
     "output_type": "execute_result"
    }
   ],
   "source": [
    "df.shape"
   ]
  },
  {
   "cell_type": "code",
   "execution_count": 21,
   "id": "02fcc284",
   "metadata": {},
   "outputs": [
    {
     "data": {
      "image/png": "[encoded data removed]",
      "text/plain": [
       "<Figure size 432x288 with 1 Axes>"
      ]
     },
     "metadata": {
      "needs_background": "light"
     },
     "output_type": "display_data"
    }
   ],
   "source": [
    "img = mpimg.imread('C:/Users/USER/Desktop/EDUREKA - NITW AIML/9.Mid Project II/words/a01/a01-000u/a01-000u-00-01.png')\n",
    "imgplot = plt.imshow(img)\n",
    "plt.show()"
   ]
  },
  {
   "cell_type": "code",
   "execution_count": 22,
   "id": "e1908aa9",
   "metadata": {},
   "outputs": [
    {
     "data": {
      "text/plain": [
       "(48, 213)"
      ]
     },
     "execution_count": 22,
     "metadata": {},
     "output_type": "execute_result"
    }
   ],
   "source": [
    "img.shape"
   ]
  },
  {
   "cell_type": "code",
   "execution_count": 23,
   "id": "d9f53c64",
   "metadata": {},
   "outputs": [
    {
     "data": {
      "text/plain": [
       "10224"
      ]
     },
     "execution_count": 23,
     "metadata": {},
     "output_type": "execute_result"
    }
   ],
   "source": [
    "img.size"
   ]
  },
  {
   "cell_type": "code",
   "execution_count": 25,
   "id": "efbc56df",
   "metadata": {},
   "outputs": [],
   "source": [
    "def read_file(filename):\n",
    "    file=open(filename,'r')\n",
    "    text=file.read()\n",
    "    file.close()\n",
    "    return text"
   ]
  },
  {
   "cell_type": "code",
   "execution_count": 26,
   "id": "ddc93209",
   "metadata": {},
   "outputs": [
    {
     "data": {
      "text/plain": [
       "['a01-000u-00-00 ok 154 408 768 27 51 AT A',\n",
       " 'a01-000u-00-01 ok 154 507 766 213 48 NN MOVE',\n",
       " 'a01-000u-00-02 ok 154 796 764 70 50 TO to',\n",
       " 'a01-000u-00-03 ok 154 919 757 166 78 VB stop',\n",
       " 'a01-000u-00-04 ok 154 1185 754 126 61 NPT Mr.',\n",
       " 'a01-000u-00-05 ok 154 1438 746 382 73 NP Gaitskell',\n",
       " 'a01-000u-00-06 ok 154 1896 757 173 72 IN from',\n",
       " 'a01-000u-01-00 ok 156 395 932 441 100 VBG nominating',\n",
       " 'a01-000u-01-01 ok 156 901 958 147 79 DTI any',\n",
       " 'a01-000u-01-02 ok 156 1112 958 208 42 AP more']"
      ]
     },
     "execution_count": 26,
     "metadata": {},
     "output_type": "execute_result"
    }
   ],
   "source": [
    "data=read_file('parser.txt')\n",
    "data=data.split('\\n')\n",
    "data[:10]"
   ]
  },
  {
   "cell_type": "code",
   "execution_count": 4,
   "id": "46cdf8f9",
   "metadata": {},
   "outputs": [],
   "source": [
    "def transform(image):\n",
    "    width ,height =image.shape\n",
    "    \n",
    "    new_width =32\n",
    "    new_height =int(height*(new_width/ width))\n",
    "    image = cv2.resize(image,(new_height,new_width))\n",
    "    image=image.astype('float32')\n",
    "    width,height= image.shape\n",
    "    \n",
    "    if width < 32 :\n",
    "        add_zeros =np.full((32-width,height),255)\n",
    "        image =np.concatenate((image,add_zeros))\n",
    "        width,height=image.shape\n",
    "        \n",
    "    if height < 128:\n",
    "        add_zeros =np.full((width,128-height),255)\n",
    "        image =np.concatenate((image,add_zeros),axis=1)\n",
    "        width,height=image.shape\n",
    "        \n",
    "        \n",
    "    if height >128 or width >32:\n",
    "        dim =(128,32)\n",
    "        image =cv2.resize(image,dim)\n",
    "        \n",
    "    image = cv2.subtract(255,image)\n",
    "    #Expanding the dimension of image\n",
    "    image = np.expand_dims(image,axis=2)\n",
    "    \n",
    "    #Normalize the image\n",
    "    image = image/255\n",
    "    return image\n",
    "    \n"
   ]
  },
  {
   "cell_type": "code",
   "execution_count": 5,
   "id": "ceb764b0",
   "metadata": {},
   "outputs": [],
   "source": [
    "img_width, img_height = 128,32  #width and height of the images\n",
    "#train_data_dir = r\"/content/training_set/training_set\"\n",
    "train_data_dir = \"C:/Users/USER/Desktop/EDUREKA - NITW AIML/9.Mid Project II/words\"\n",
    "#validation_data_dir=r\"/content/test_set/test_set\"\n",
    "#validation_data_dir=\"C:/Users/USER/Desktop/EDUREKA - NITW AIML/6. Deep Learning/3. Image Classification using CNN/2.Cat and Dog/test_set/test_set\"\n",
    "nb_train_sample =100\n",
    "nb_validation_samples =100\n",
    "epochs =100\n",
    "batch_size= 20"
   ]
  },
  {
   "cell_type": "code",
   "execution_count": 6,
   "id": "f02027bf",
   "metadata": {},
   "outputs": [],
   "source": [
    "import tensorflow.keras.backend as k\n",
    "if k.image_data_format()=='channels_first': \n",
    "    input_shape=(3, img_width, img_height)\n",
    "else:\n",
    "    input_shape=(img_width,img_height,3)"
   ]
  },
  {
   "cell_type": "code",
   "execution_count": null,
   "id": "19c8c9bd",
   "metadata": {},
   "outputs": [],
   "source": [
    "3. Currently, the pixel values are between 0 to 255, normalize the images so that the pixel \n",
    "values are in range 0 to 1"
   ]
  },
  {
   "cell_type": "code",
   "execution_count": 7,
   "id": "2370f9b4",
   "metadata": {},
   "outputs": [
    {
     "name": "stdout",
     "output_type": "stream",
     "text": [
      "Found 115320 images belonging to 76 classes.\n"
     ]
    }
   ],
   "source": [
    "train_datagen=ImageDataGenerator ( rescale=1. /255,shear_range =0.2,zoom_range=0.2,horizontal_flip =True)\n",
    "\n",
    "\n",
    "test_datagen=ImageDataGenerator (rescale=1. /255)\n",
    "\n",
    "\n",
    "train_generator =train_datagen.flow_from_directory(train_data_dir,target_size =(img_width,img_height), batch_size=batch_size,class_mode='binary')\n",
    "#Now this, will generate training generator data\n",
    "#Target_size = mentioned image_width and image_height\n",
    "#Batch_size = 20 (already mentioned)\n",
    "#Class_mode = binary(because here only two classes are there to classify)\n",
    "\n",
    "\n",
    "#validation_generator =test_datagen.flow_from_directory(validation_data_dir,target_size =(img_width,img_height), batch_size=batch_size,class_mode='binary')\n",
    "#Now, this will generate testing generator data\n",
    "#Target_size = mentioned image_width and image_height\n",
    "#Batch_size = 20 (already mentioned)\n",
    "#Class_mode = binary(because here only two classes are there to classify)"
   ]
  },
  {
   "cell_type": "code",
   "execution_count": null,
   "id": "e8cc9cf2",
   "metadata": {},
   "outputs": [],
   "source": [
    "4. Create a list of all characters and use the character’s index to encode the actual words \n",
    "into digits"
   ]
  },
  {
   "cell_type": "code",
   "execution_count": 9,
   "id": "83b6399c",
   "metadata": {},
   "outputs": [
    {
     "data": {
      "text/html": [
       "<div>\n",
       "<style scoped>\n",
       "    .dataframe tbody tr th:only-of-type {\n",
       "        vertical-align: middle;\n",
       "    }\n",
       "\n",
       "    .dataframe tbody tr th {\n",
       "        vertical-align: top;\n",
       "    }\n",
       "\n",
       "    .dataframe thead th {\n",
       "        text-align: right;\n",
       "    }\n",
       "</style>\n",
       "<table border=\"1\" class=\"dataframe\">\n",
       "  <thead>\n",
       "    <tr style=\"text-align: right;\">\n",
       "      <th></th>\n",
       "      <th>a01-000u-00-00</th>\n",
       "      <th>ok</th>\n",
       "      <th>154</th>\n",
       "      <th>408</th>\n",
       "      <th>768</th>\n",
       "      <th>27</th>\n",
       "      <th>51</th>\n",
       "      <th>AT</th>\n",
       "      <th>A</th>\n",
       "    </tr>\n",
       "  </thead>\n",
       "  <tbody>\n",
       "    <tr>\n",
       "      <th>0</th>\n",
       "      <td>a01-000u-00-01</td>\n",
       "      <td>ok</td>\n",
       "      <td>154</td>\n",
       "      <td>507</td>\n",
       "      <td>766</td>\n",
       "      <td>213</td>\n",
       "      <td>48</td>\n",
       "      <td>NN</td>\n",
       "      <td>MOVE</td>\n",
       "    </tr>\n",
       "    <tr>\n",
       "      <th>1</th>\n",
       "      <td>a01-000u-00-02</td>\n",
       "      <td>ok</td>\n",
       "      <td>154</td>\n",
       "      <td>796</td>\n",
       "      <td>764</td>\n",
       "      <td>70</td>\n",
       "      <td>50</td>\n",
       "      <td>TO</td>\n",
       "      <td>to</td>\n",
       "    </tr>\n",
       "    <tr>\n",
       "      <th>2</th>\n",
       "      <td>a01-000u-00-03</td>\n",
       "      <td>ok</td>\n",
       "      <td>154</td>\n",
       "      <td>919</td>\n",
       "      <td>757</td>\n",
       "      <td>166</td>\n",
       "      <td>78</td>\n",
       "      <td>VB</td>\n",
       "      <td>stop</td>\n",
       "    </tr>\n",
       "    <tr>\n",
       "      <th>3</th>\n",
       "      <td>a01-000u-00-04</td>\n",
       "      <td>ok</td>\n",
       "      <td>154</td>\n",
       "      <td>1185</td>\n",
       "      <td>754</td>\n",
       "      <td>126</td>\n",
       "      <td>61</td>\n",
       "      <td>NPT</td>\n",
       "      <td>Mr.</td>\n",
       "    </tr>\n",
       "    <tr>\n",
       "      <th>4</th>\n",
       "      <td>a01-000u-00-05</td>\n",
       "      <td>ok</td>\n",
       "      <td>154</td>\n",
       "      <td>1438</td>\n",
       "      <td>746</td>\n",
       "      <td>382</td>\n",
       "      <td>73</td>\n",
       "      <td>NP</td>\n",
       "      <td>Gaitskell</td>\n",
       "    </tr>\n",
       "  </tbody>\n",
       "</table>\n",
       "</div>"
      ],
      "text/plain": [
       "   a01-000u-00-00  ok  154   408  768   27  51   AT          A\n",
       "0  a01-000u-00-01  ok  154   507  766  213  48   NN       MOVE\n",
       "1  a01-000u-00-02  ok  154   796  764   70  50   TO         to\n",
       "2  a01-000u-00-03  ok  154   919  757  166  78   VB       stop\n",
       "3  a01-000u-00-04  ok  154  1185  754  126  61  NPT        Mr.\n",
       "4  a01-000u-00-05  ok  154  1438  746  382  73   NP  Gaitskell"
      ]
     },
     "execution_count": 9,
     "metadata": {},
     "output_type": "execute_result"
    }
   ],
   "source": [
    "df.head()"
   ]
  },
  {
   "cell_type": "code",
   "execution_count": 22,
   "id": "9db38ea2",
   "metadata": {},
   "outputs": [
    {
     "name": "stdout",
     "output_type": "stream",
     "text": [
      "a01-000u-00-00\n",
      "0\n",
      "OK a01-000u-00-00\n",
      "ok\n",
      "1\n",
      "OK ok\n"
     ]
    },
    {
     "ename": "IndexError",
     "evalue": "list index out of range",
     "output_type": "error",
     "traceback": [
      "\u001b[1;31m---------------------------------------------------------------------------\u001b[0m",
      "\u001b[1;31mIndexError\u001b[0m                                Traceback (most recent call last)",
      "Input \u001b[1;32mIn [22]\u001b[0m, in \u001b[0;36m<cell line: 14>\u001b[1;34m()\u001b[0m\n\u001b[0;32m     22\u001b[0m word\u001b[38;5;241m=\u001b[39m\u001b[38;5;124m\"\u001b[39m\u001b[38;5;124m\"\u001b[39m\u001b[38;5;241m.\u001b[39mjoin(splits[\u001b[38;5;241m8\u001b[39m:])\n\u001b[0;32m     23\u001b[0m splits_id\u001b[38;5;241m=\u001b[39mword_id\u001b[38;5;241m.\u001b[39msplit(\u001b[38;5;124m'\u001b[39m\u001b[38;5;124m-\u001b[39m\u001b[38;5;124m'\u001b[39m)\n\u001b[1;32m---> 24\u001b[0m filepath\u001b[38;5;241m=\u001b[39m\u001b[38;5;124m'\u001b[39m\u001b[38;5;124mwords/\u001b[39m\u001b[38;5;132;01m{}\u001b[39;00m\u001b[38;5;124m/\u001b[39m\u001b[38;5;132;01m{}\u001b[39;00m\u001b[38;5;124m-\u001b[39m\u001b[38;5;132;01m{}\u001b[39;00m\u001b[38;5;124m/\u001b[39m\u001b[38;5;132;01m{}\u001b[39;00m\u001b[38;5;124m.png\u001b[39m\u001b[38;5;124m'\u001b[39m\u001b[38;5;241m.\u001b[39mformat(splits_id[\u001b[38;5;241m0\u001b[39m],splits_id[\u001b[38;5;241m0\u001b[39m],\u001b[43msplits_id\u001b[49m\u001b[43m[\u001b[49m\u001b[38;5;241;43m1\u001b[39;49m\u001b[43m]\u001b[49m,word_id)\n\u001b[0;32m     26\u001b[0m \u001b[38;5;66;03m#processing on  image\u001b[39;00m\n\u001b[0;32m     27\u001b[0m img \u001b[38;5;241m=\u001b[39m cv2\u001b[38;5;241m.\u001b[39mimread(filepath,cv2\u001b[38;5;241m.\u001b[39mIMREAD_GRAYSCALE)\n",
      "\u001b[1;31mIndexError\u001b[0m: list index out of range"
     ]
    }
   ],
   "source": [
    "train_images=[]\n",
    "train_labels=[]\n",
    "train_input_length=[]\n",
    "train_label_length=[]\n",
    "train_original_text=[]\n",
    "\n",
    "valid_images=[]\n",
    "valid_labels=[]\n",
    "valid_input_length=[]\n",
    "valid_label_length=[]\n",
    "valid_original_text=[]\n",
    "\n",
    "max_len=0\n",
    "for index, line in enumerate(df):\n",
    "    print(line)\n",
    "    print(index)\n",
    "    splits=line.split(' ')\n",
    "    status=splits[1]\n",
    "    print(\"OK\",status)\n",
    "    if status == 'ok':\n",
    "        word_id=splits[0]\n",
    "        word=\"\".join(splits[8:])\n",
    "        splits_id=word_id.split('-')\n",
    "        filepath='words/{}/{}-{}/{}.png'.format(splits_id[0],splits_id[0],splits_id[1],word_id)\n",
    "        \n",
    "        #processing on  image\n",
    "        img = cv2.imread(filepath,cv2.IMREAD_GRAYSCALE)\n",
    "        try:\n",
    "            img=transform(img)\n",
    "        except:\n",
    "            continue\n",
    "        #processing on label\n",
    "        try:\n",
    "            label = encoder(word)\n",
    "        except:\n",
    "            continue\n",
    "        if index % 10 == 0:\n",
    "            valid_images.append(img)\n",
    "            valid_labels.append(label)\n",
    "            valid_input_length.append(31)\n",
    "            valid_label_length.append(len(word))\n",
    "            valid_original_text.append(word)\n",
    "        else:\n",
    "            train_images.append(img)\n",
    "            train_labels.append(label)\n",
    "            train_input_length.append(31)\n",
    "            train_label_length.append(len(word))\n",
    "            train_original_text.append(word)\n",
    "            \n",
    "        if len(word) >max_len:\n",
    "            max_len=len(word)\n",
    "    if index >= 10000:\n",
    "        break"
   ]
  },
  {
   "cell_type": "code",
   "execution_count": null,
   "id": "06ce239d",
   "metadata": {},
   "outputs": [],
   "source": [
    "5. Pad all the words to have a similar length"
   ]
  },
  {
   "cell_type": "code",
   "execution_count": 50,
   "id": "8bf53220",
   "metadata": {},
   "outputs": [],
   "source": [
    "train_padded_label=pad_sequences(train_labels,\n",
    "                                maxlen=max_len,\n",
    "                                padding='post',\n",
    "                                value=len(characters))\n",
    "\n",
    "valid_padded_label=pad_sequences(valid_labels,\n",
    "                                maxlen=max_len,\n",
    "                                padding='post',\n",
    "                                value=len(characters))\n",
    "\n"
   ]
  },
  {
   "cell_type": "code",
   "execution_count": 51,
   "id": "68a71d66",
   "metadata": {},
   "outputs": [
    {
     "data": {
      "text/plain": [
       "((0, 0), (0, 0))"
      ]
     },
     "execution_count": 51,
     "metadata": {},
     "output_type": "execute_result"
    }
   ],
   "source": [
    "train_padded_label.shape, valid_padded_label.shape"
   ]
  },
  {
   "cell_type": "code",
   "execution_count": null,
   "id": "fd6a9c34",
   "metadata": {},
   "outputs": [],
   "source": [
    "6. Split your dataset for training and testing"
   ]
  },
  {
   "cell_type": "code",
   "execution_count": null,
   "id": "ff0253fc",
   "metadata": {},
   "outputs": [],
   "source": []
  },
  {
   "cell_type": "code",
   "execution_count": null,
   "id": "3125b2f8",
   "metadata": {},
   "outputs": [],
   "source": [
    "7. Create a model for training:\n",
    "a) Add several CNN layers to extract the sequence of features\n",
    "b) Add Bi-LSTM layers to propagate through the sequence\n",
    "c) Add a dense layer (output layer) with total number of neurons as (total number of \n",
    "characters + 1) and the activation as softmax."
   ]
  },
  {
   "cell_type": "code",
   "execution_count": null,
   "id": "a3654f82",
   "metadata": {},
   "outputs": [],
   "source": []
  },
  {
   "cell_type": "code",
   "execution_count": null,
   "id": "2bbb4367",
   "metadata": {},
   "outputs": [],
   "source": [
    "8. The output sequence from the output layer will be fed to the CTC layer."
   ]
  },
  {
   "cell_type": "code",
   "execution_count": null,
   "id": "bcc58d3c",
   "metadata": {},
   "outputs": [],
   "source": []
  },
  {
   "cell_type": "code",
   "execution_count": null,
   "id": "f8b04720",
   "metadata": {},
   "outputs": [],
   "source": [
    "9. Predict output using your model (don’t use the last loss layer) on validation images, use \n",
    "ctc_decode to decode your output and then print the actual words using the indexes \n",
    "from your character’s list."
   ]
  },
  {
   "cell_type": "code",
   "execution_count": null,
   "id": "8166495b",
   "metadata": {},
   "outputs": [],
   "source": []
  },
  {
   "cell_type": "code",
   "execution_count": null,
   "id": "6be5a8f7",
   "metadata": {},
   "outputs": [],
   "source": []
  },
  {
   "cell_type": "code",
   "execution_count": null,
   "id": "8a4d2130",
   "metadata": {},
   "outputs": [],
   "source": []
  },
  {
   "cell_type": "code",
   "execution_count": null,
   "id": "fd8d5105",
   "metadata": {},
   "outputs": [],
   "source": []
  }
 ],
 "metadata": {
  "kernelspec": {
   "display_name": "Python 3 (ipykernel)",
   "language": "python",
   "name": "python3"
  },
  "language_info": {
   "codemirror_mode": {
    "name": "ipython",
    "version": 3
   },
   "file_extension": ".py",
   "mimetype": "text/x-python",
   "name": "python",
   "nbconvert_exporter": "python",
   "pygments_lexer": "ipython3",
   "version": "3.10.5"
  }
 },
 "nbformat": 4,
 "nbformat_minor": 5
}
